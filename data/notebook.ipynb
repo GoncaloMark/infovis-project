{
 "cells": [
  {
   "cell_type": "code",
   "execution_count": 46,
   "metadata": {},
   "outputs": [
    {
     "name": "stdout",
     "output_type": "stream",
     "text": [
      "Path to dataset files: /home/lnxdread/.cache/kagglehub/datasets/alanvourch/tmdb-movies-daily-updates/versions/285\n"
     ]
    }
   ],
   "source": [
    "import kagglehub\n",
    "\n",
    "path = kagglehub.dataset_download(\"alanvourch/tmdb-movies-daily-updates\")\n",
    "\n",
    "print(\"Path to dataset files:\", path)"
   ]
  },
  {
   "cell_type": "code",
   "execution_count": 47,
   "metadata": {},
   "outputs": [],
   "source": [
    "import pandas as pd\n",
    "\n",
    "# Load CSV from './TMDB_all_movies.csv'\n",
    "df = pd.read_csv(f\"{path}/TMDB_all_movies.csv\")\n",
    "\n",
    "# Leave only the columns ['id', 'title', 'vote_average', 'status', 'release_date', 'budget', 'revenue', 'popularity', 'genres', 'cast', 'director', 'production_companies']\n",
    "df = df[['id', 'title', 'vote_average', 'status', 'release_date', 'budget', 'revenue', 'popularity', 'genres', 'cast', 'director', 'production_companies']]\n",
    "\n",
    "# Drop rows with NaN values\n",
    "df = df.dropna()\n",
    "\n",
    "# Save the result to './TMDB_all_movies_cleaned.csv'\n",
    "df.to_csv('./TMDB_all_movies_cleaned.csv', index=False)"
   ]
  },
  {
   "cell_type": "code",
   "execution_count": 48,
   "metadata": {},
   "outputs": [
    {
     "name": "stdout",
     "output_type": "stream",
     "text": [
      "            id            title  vote_average    status release_date  \\\n",
      "56665    80035        The Watch           5.6  Released   2012-07-26   \n",
      "33573    49797  I Saw the Devil           7.8  Released   2010-08-12   \n",
      "408276  581389   Space Sweepers           7.1  Released   2021-02-05   \n",
      "9000     15080   Only Yesterday           7.4  Released   1991-07-20   \n",
      "3308      5924         Papillon           7.8  Released   1973-12-16   \n",
      "\n",
      "            budget     revenue  popularity                           genres  \\\n",
      "56665   68000000.0  68267862.0      29.998  Comedy, Action, Science Fiction   \n",
      "33573    6000000.0  12966357.0      29.992                 Thriller, Horror   \n",
      "408276  21000000.0     24571.0      29.992  Drama, Fantasy, Science Fiction   \n",
      "9000           0.0    473110.0      29.989        Animation, Drama, Romance   \n",
      "3308    12000000.0  53267000.0      29.988                     Crime, Drama   \n",
      "\n",
      "                                                     cast  \\\n",
      "56665   Kate Kneeland, Erinn Hayes, Cathy Shim, Paul B...   \n",
      "33573   Um Tae-goo, Kim Yoon-seo, Lee Jun-hyuk, Jung T...   \n",
      "408276  Yoo Hai-jin, Thomas Frederiksen, Nas Brown, Oh...   \n",
      "9000    Mayumi Izuka, Miki Imai, Yoko Honna, Ichiro Na...   \n",
      "3308    Fred Sadoff, Dalton Trumbo, Val Avery, Allen J...   \n",
      "\n",
      "                     director  \\\n",
      "56665          Akiva Schaffer   \n",
      "33573            Kim Jee-woon   \n",
      "408276            Jo Sung-hee   \n",
      "9000            Isao Takahata   \n",
      "3308    Franklin J. Schaffner   \n",
      "\n",
      "                                     production_companies  \n",
      "56665                               21 Laps Entertainment  \n",
      "33573   Softbank Ventures, Peppermint & Company, Siz E...  \n",
      "408276                 Bidangil Pictures, Merry Christmas  \n",
      "9000    Studio Ghibli, Tokuma Shoten, Nippon Televisio...  \n",
      "3308    Allied Artists Pictures, Solar Productions, Co...  \n"
     ]
    },
    {
     "data": {
      "image/png": "[encoded data removed]",
      "text/plain": [
       "<Figure size 2000x1000 with 1 Axes>"
      ]
     },
     "metadata": {},
     "output_type": "display_data"
    }
   ],
   "source": [
    "# Print the first 5 rows\n",
    "#print(df.head())\n",
    "\n",
    "# Show some examples of movies with a popularity between 0 and 5, sorted by popularity\n",
    "print(df[(df['popularity'] >= 25) & (df['popularity'] < 30)].sort_values(by='popularity', ascending=False).head())\n",
    "\n",
    "# Make an histogram of the 'popularity' column, with 100 bins, with an interval of 5 ([0, 5[, [5, 10[, [10, 15[, etc.)])\n",
    "df['popularity'].hist(bins=100, range=(0, 40), figsize=(20, 10))\n",
    "\n",
    "# Remove movies with a popularity below 20\n",
    "df = df[df['popularity'] >= 15]\n",
    "\n",
    "# Remove movies with a budget of 0\n",
    "df = df[df['budget'] > 0]\n",
    "\n",
    "# Save the result to './TMDB_all_movies_cleaned_2.csv'\n",
    "df.to_csv('./TMDB_all_movies_cleaned_2.csv', index=False)\n"
   ]
  },
  {
   "cell_type": "code",
   "execution_count": 49,
   "metadata": {},
   "outputs": [],
   "source": [
    "def genre_average_rating(data, top_genres_column):\n",
    "    def calc(row):\n",
    "        top_genres = row[top_genres_column]\n",
    "        ratings = {}\n",
    "        for genre in top_genres:\n",
    "            ratings[genre] = data.loc[data['genres'].apply(lambda g: genre in g), 'vote_average'].mean()\n",
    "        return ratings\n",
    "    return calc"
   ]
  },
  {
   "cell_type": "code",
   "execution_count": 50,
   "metadata": {},
   "outputs": [],
   "source": [
    "# Movies data\n",
    "movies = df[['id', 'title', 'vote_average', 'status', 'release_date', 'budget', 'revenue', 'cast', 'popularity', 'genres', 'production_companies', 'director']]\n",
    "movies.to_csv('./movies.csv', index=False)"
   ]
  },
  {
   "cell_type": "code",
   "execution_count": 51,
   "metadata": {},
   "outputs": [
    {
     "name": "stderr",
     "output_type": "stream",
     "text": [
      "/tmp/ipykernel_5444/49760351.py:3: SettingWithCopyWarning: \n",
      "A value is trying to be set on a copy of a slice from a DataFrame.\n",
      "Try using .loc[row_indexer,col_indexer] = value instead\n",
      "\n",
      "See the caveats in the documentation: https://pandas.pydata.org/pandas-docs/stable/user_guide/indexing.html#returning-a-view-versus-a-copy\n",
      "  actors_data['cast'] = actors_data['cast'].apply(lambda x: x.split(', ') if isinstance(x, str) else x)\n",
      "/tmp/ipykernel_5444/49760351.py:4: SettingWithCopyWarning: \n",
      "A value is trying to be set on a copy of a slice from a DataFrame.\n",
      "Try using .loc[row_indexer,col_indexer] = value instead\n",
      "\n",
      "See the caveats in the documentation: https://pandas.pydata.org/pandas-docs/stable/user_guide/indexing.html#returning-a-view-versus-a-copy\n",
      "  actors_data['genres'] = actors_data['genres'].apply(lambda x: x.split(', ') if isinstance(x, str) else x)\n"
     ]
    }
   ],
   "source": [
    "# Actors data\n",
    "actors_data = df[['id', 'cast', 'vote_average', 'budget', 'revenue', 'genres', 'popularity']]\n",
    "actors_data['cast'] = actors_data['cast'].apply(lambda x: x.split(', ') if isinstance(x, str) else x)\n",
    "actors_data['genres'] = actors_data['genres'].apply(lambda x: x.split(', ') if isinstance(x, str) else x)\n",
    "actors = actors_data.explode('cast')  # Split the list of actors into rows\n",
    "actors = actors.rename(columns={'id': 'movie_id', 'cast': 'actor'})\n",
    "\n",
    "actor_stats = (\n",
    "    actors.groupby('actor', as_index=False)\n",
    "    .agg(\n",
    "        average_budget=('budget', 'mean'),\n",
    "        average_revenue=('revenue', 'mean'),\n",
    "        movies_count=('movie_id', 'count'),\n",
    "        top_genres=('genres', lambda x: pd.Series(x.explode().unique()).value_counts().head(5).index.tolist()),\n",
    "        popularity_over_time=('popularity', list),\n",
    "    )\n",
    ")\n",
    "\n",
    "actor_stats.to_csv('./actors.csv', index=False)"
   ]
  },
  {
   "cell_type": "code",
   "execution_count": null,
   "metadata": {},
   "outputs": [
    {
     "name": "stderr",
     "output_type": "stream",
     "text": [
      "/tmp/ipykernel_5444/964385379.py:15: DeprecationWarning: DataFrameGroupBy.apply operated on the grouping columns. This behavior is deprecated, and in a future version of pandas the grouping columns will be excluded from the operation. Either pass `include_groups=False` to exclude the groupings or explicitly select the grouping columns after groupby to silence this warning.\n",
      "  .apply(lambda x: [{'genre': row['genre'], 'average_rating': row['average_rating']} for _, row in x.iterrows()])\n"
     ]
    }
   ],
   "source": [
    "movies['cast'] = movies['cast'].apply(lambda x: x.split(', ') if isinstance(x, str) else x)\n",
    "movies['genres'] = movies['genres'].apply(lambda x: x.split(', ') if isinstance(x, str) else x)\n",
    "\n",
    "movies_exploded = movies.explode('cast').explode('genres')\n",
    "movies_exploded = movies_exploded.rename(columns={'cast': 'actor', 'genres': 'genre'})\n",
    "\n",
    "average_genre_rating = (\n",
    "    movies_exploded.groupby(['actor', 'genre'])\n",
    "    .agg(average_rating=('vote_average', 'mean'))\n",
    "    .reset_index()\n",
    ")\n",
    "\n",
    "average_genre_rating['average_rating'] = average_genre_rating['average_rating'].round(2)\n",
    "\n",
    "actor_genre_ratings = (\n",
    "    average_genre_rating.groupby('actor')\n",
    "    .apply(lambda x: [{'genre': row['genre'], 'average_rating': row['average_rating']} for _, row in x.iterrows()])\n",
    "    .reset_index(name='genre_ratings')\n",
    ")\n",
    "\n",
    "actor_stats.to_csv('./actors.csv', index=False)\n",
    "movies_with_actor_ratings = pd.merge(\n",
    "    movies_exploded[['actor']].drop_duplicates(), \n",
    "    actor_genre_ratings, \n",
    "    on='actor', \n",
    "    how='left'\n",
    ")\n",
    "\n",
    "movies_with_actor_ratings.to_csv('./actors_with_genre_ratings.csv', index=False)"
   ]
  },
  {
   "cell_type": "code",
   "execution_count": 53,
   "metadata": {},
   "outputs": [
    {
     "name": "stderr",
     "output_type": "stream",
     "text": [
      "/tmp/ipykernel_5444/767172204.py:3: SettingWithCopyWarning: \n",
      "A value is trying to be set on a copy of a slice from a DataFrame.\n",
      "Try using .loc[row_indexer,col_indexer] = value instead\n",
      "\n",
      "See the caveats in the documentation: https://pandas.pydata.org/pandas-docs/stable/user_guide/indexing.html#returning-a-view-versus-a-copy\n",
      "  directors_data['director'] = directors_data['director'].apply(lambda x: x.split(', ') if isinstance(x, str) else [])\n",
      "/tmp/ipykernel_5444/767172204.py:4: SettingWithCopyWarning: \n",
      "A value is trying to be set on a copy of a slice from a DataFrame.\n",
      "Try using .loc[row_indexer,col_indexer] = value instead\n",
      "\n",
      "See the caveats in the documentation: https://pandas.pydata.org/pandas-docs/stable/user_guide/indexing.html#returning-a-view-versus-a-copy\n",
      "  directors_data['genres'] = directors_data['genres'].apply(lambda x: x.split(', ') if isinstance(x, str) else x)\n"
     ]
    }
   ],
   "source": [
    "# Directors data\n",
    "directors_data = df[['id', 'director', 'vote_average', 'budget', 'revenue', 'genres', 'popularity']]\n",
    "directors_data['director'] = directors_data['director'].apply(lambda x: x.split(', ') if isinstance(x, str) else [])\n",
    "directors_data['genres'] = directors_data['genres'].apply(lambda x: x.split(', ') if isinstance(x, str) else x)\n",
    "directors = directors_data.explode('director')  # Explode to get one director per row\n",
    "directors = directors.rename(columns={'id': 'movie_id', 'director': 'director_name'})\n",
    "\n",
    "director_stats = (\n",
    "    directors.groupby('director_name')\n",
    "    .agg(\n",
    "        average_budget=('budget', 'mean'),\n",
    "        average_revenue=('revenue', 'mean'),\n",
    "        movies_count=('movie_id', 'count'),\n",
    "        top_genres=('genres', lambda x: pd.Series(x.explode().unique()).value_counts().head(5).index.tolist()),\n",
    "        popularity_over_time=('popularity', list)\n",
    "    )\n",
    "    .reset_index()\n",
    ")\n",
    "\n",
    "director_stats.to_csv('./directors.csv', index=False)\n"
   ]
  },
  {
   "cell_type": "code",
   "execution_count": null,
   "metadata": {},
   "outputs": [
    {
     "name": "stderr",
     "output_type": "stream",
     "text": [
      "/tmp/ipykernel_5444/1975810683.py:15: DeprecationWarning: DataFrameGroupBy.apply operated on the grouping columns. This behavior is deprecated, and in a future version of pandas the grouping columns will be excluded from the operation. Either pass `include_groups=False` to exclude the groupings or explicitly select the grouping columns after groupby to silence this warning.\n",
      "  .apply(lambda x: [{'genre': row['genre'], 'average_rating': row['average_rating']} for _, row in x.iterrows()])\n"
     ]
    }
   ],
   "source": [
    "movies['director'] = movies['director'].apply(lambda x: x.split(', ') if isinstance(x, str) else x)\n",
    "movies['genres'] = movies['genres'].apply(lambda x: x.split(', ') if isinstance(x, str) else x)\n",
    "\n",
    "movies_exploded = movies.explode('director').explode('genres')\n",
    "movies_exploded = movies_exploded.rename(columns={'director': 'director_name', 'genres': 'genre'})\n",
    "\n",
    "average_genre_rating = (\n",
    "    movies_exploded.groupby(['director_name', 'genre'])\n",
    "    .agg(average_rating=('vote_average', 'mean'))\n",
    "    .reset_index()\n",
    ")\n",
    "\n",
    "average_genre_rating['average_rating'] = average_genre_rating['average_rating'].round(2)\n",
    "\n",
    "director_genre_ratings = (\n",
    "    average_genre_rating.groupby('director_name')\n",
    "    .apply(lambda x: [{'genre': row['genre'], 'average_rating': row['average_rating']} for _, row in x.iterrows()])\n",
    "    .reset_index(name='genre_ratings')\n",
    ")\n",
    "\n",
    "movies_with_director_ratings = pd.merge(\n",
    "    movies_exploded[['director_name']].drop_duplicates(), \n",
    "    director_genre_ratings, \n",
    "    on='director_name', \n",
    "    how='left'\n",
    ")\n",
    "\n",
    "movies_with_director_ratings.to_csv('./directors_with_genre_ratings.csv', index=False)"
   ]
  }
 ],
 "metadata": {
  "kernelspec": {
   "display_name": "venv",
   "language": "python",
   "name": "python3"
  },
  "language_info": {
   "codemirror_mode": {
    "name": "ipython",
    "version": 3
   },
   "file_extension": ".py",
   "mimetype": "text/x-python",
   "name": "python",
   "nbconvert_exporter": "python",
   "pygments_lexer": "ipython3",
   "version": "3.10.12"
  }
 },
 "nbformat": 4,
 "nbformat_minor": 2
}
